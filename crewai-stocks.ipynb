{
 "cells": [
  {
   "cell_type": "markdown",
   "metadata": {},
   "source": [
    "#Instalação"
   ]
  },
  {
   "cell_type": "code",
   "execution_count": null,
   "metadata": {},
   "outputs": [],
   "source": [
    "#!pip install yfinance\n",
    "#!pip install crewai\n",
    "!pip install crewai[tools]\n",
    "#!pip install langchain\n",
    "#!pip install langchain-openai\n",
    "#!pip install duckduckgo-search\n",
    "#!pip install streamlit\n",
    "#!pip install langchain_community==0.0.29 langchain_groq"
   ]
  },
  {
   "cell_type": "code",
   "execution_count": 8,
   "metadata": {},
   "outputs": [],
   "source": [
    "#Criando as Libs\n",
    "#import json\n",
    "import os\n",
    "#import getpass\n",
    "from datetime import datetime\n",
    "from IPython.display import Markdown\n",
    "\n",
    "import yfinance as yf\n",
    "\n",
    "import openai\n",
    "from crewai import Agent, Task, Crew, Process\n",
    "from langchain.tools import Tool\n",
    "from langchain_openai import ChatOpenAI\n",
    "from langchain_groq import ChatGroq\n",
    "from langchain_community.tools import DuckDuckGoSearchResults\n",
    "import streamlit as st "
   ]
  },
  {
   "cell_type": "code",
   "execution_count": 3,
   "metadata": {},
   "outputs": [],
   "source": [
    "#Criando Yahoo Finance Tool\n",
    "def fetch_stock_price(ticket):\n",
    "    stock = yf.download(ticket, start=\"2023-08-30\", end=\"2024-08-30\")\n",
    "    #!stock = yf.download(\"AAPL\", start=\"2023-08-31\", end=\"2024-08-31\")\n",
    "    return stock\n",
    "\n",
    "yahoo_finance_tool = Tool(\n",
    "    name = 'Yahoo Finance Tool',\n",
    "    description = \"\"\"Fetches stocks prices for {ticket} from the Last year about a specific company from Yahoo Finance API\"\"\",\n",
    "    func = lambda ticket: fetch_stock_price(ticket)\n",
    ")"
   ]
  },
  {
   "cell_type": "code",
   "execution_count": 28,
   "metadata": {},
   "outputs": [],
   "source": [
    "#Importando OPENAI LLM - GPT\n",
    "#!from langchain_google_genai import ChatGoogleGenerativeAI\n",
    "#!llm = ChatGoogleGenerativeAI(model=\"gemini-1.5-pro\", verbose = True, max_output_tokens = 20, temperature = 0,timeout= None,google_api_key=\"API_KEY\")\n",
    "llm = ChatGroq(temperature=0,\n",
    "    model_name=\"llama3-70b-8192\",\n",
    "    api_key='<API_KEY>')"
   ]
  },
  {
   "cell_type": "code",
   "execution_count": 29,
   "metadata": {},
   "outputs": [],
   "source": [
    "search_tool = DuckDuckGoSearchResults(backend=\"news\", num_results=10)\n",
    "#!from langchain.tools import DuckDuckGoSearchRun\n",
    "#!search_tool = DuckDuckGoSearchRun()"
   ]
  },
  {
   "cell_type": "code",
   "execution_count": 30,
   "metadata": {},
   "outputs": [],
   "source": [
    "stockPriceAnalyst = Agent(\n",
    "    role = 'Senior Stock Price Analyst',\n",
    "    goal = 'Find the {ticket} stock price and analyses trends',\n",
    "    backstory = \"\"\"You're highly experienced in analyzing the price of an specific stock and make predictions about it's future price\"\"\",\n",
    "    verbose= True,\n",
    "    llm = llm,\n",
    "    max_iter = 60,\n",
    "    memory = True,\n",
    "    tools=[yahoo_finance_tool],\n",
    "    allow_delegation = False\n",
    ")"
   ]
  },
  {
   "cell_type": "code",
   "execution_count": 31,
   "metadata": {},
   "outputs": [],
   "source": [
    "getStockPrice = Task(\n",
    "    description= \"\"\"Analyze the stock {ticket} price history and create an trend analyzes of up, down or sideways\"\"\",\n",
    "    expected_output = \"\"\" Specify the current stock price - up, down or sideways.\n",
    "    eg. stock= 'APPL, price UP'\n",
    "    \"\"\",\n",
    "    agent= stockPriceAnalyst\n",
    ")"
   ]
  },
  {
   "cell_type": "code",
   "execution_count": 32,
   "metadata": {},
   "outputs": [],
   "source": [
    "newsAnalyst = Agent(\n",
    "    role = 'Stock News Analyst',\n",
    "    goal = 'Create a short summary of the market news related to the stock {ticket} company. Specify the current trend - up, down or sideways with the news context. For each request stock asset, specify a number between 0 and 100, where 0 is extreme fear and 100 is extreme greed',\n",
    "    backstory = \"\"\"You're highly experienced in analyzing the market trends and news and have tracked assets for more than 30 years.\n",
    "    \n",
    "    You're also master level analysts in the tradictional markets and have deep understanding of human psychology\n",
    "    \n",
    "    You understand news, theirs tittles and information, but you look at those with a health dose of skepticism.\n",
    "    You consider also the source of the news articles.\n",
    "    \"\"\",\n",
    "    verbose= True,\n",
    "    llm = llm,\n",
    "    max_iter = 60,\n",
    "    memory = True,\n",
    "    tools=[search_tool],\n",
    "    allow_delegation = False\n",
    ")"
   ]
  },
  {
   "cell_type": "code",
   "execution_count": 33,
   "metadata": {},
   "outputs": [],
   "source": [
    "get_news = Task(\n",
    "    description= f\"\"\"Take the stock and always include BTC to it (if not request)\n",
    "    Use the search tool to search each one individually\n",
    "    \n",
    "    The current date is {datetime.now()}.\n",
    "    \n",
    "    Compose the results into a helpful report\"\"\",\n",
    "    expected_output = \"\"\"A summary of the overall market and one sentence summary for each requested asset.\n",
    "    Include a fear/greed score for each asset based on the news. Use format:\n",
    "    <STOCK ASSET>\n",
    "    <SUMMARY BASED ON NEWS>\n",
    "    <TREND PREDICTION>\n",
    "    <FEAR/GREED SCORE>\n",
    "    \"\"\",\n",
    "    agent= newsAnalyst\n",
    ")"
   ]
  },
  {
   "cell_type": "code",
   "execution_count": 34,
   "metadata": {},
   "outputs": [],
   "source": [
    "stockAnalystWriter = Agent(\n",
    "    role = 'Senior Stock Analysts Writer',\n",
    "    goal = 'Analyze the trends price and news, writing an insightfull compelling and informative 3 paragraph long newsletter based on the stock report in price trend.',\n",
    "    backstory = \"\"\"You're widely accepted as the best stock analyst in the market. You understand complex concepts and create compelling stories and narratives that resonates with wider audiences.\n",
    "    \n",
    "    You understand macro factors and combine multiple theories\n",
    "    eg. cycle theory and fundamental analyses. You're able to hold multiple opinions when analyzing anything.\"\"\",\n",
    "    verbose = True,\n",
    "    max_iter = 60,\n",
    "    memory = True,\n",
    "    llm = llm,\n",
    "    #!tools=[search_tool],\n",
    "    allow_delegation = True\n",
    ")"
   ]
  },
  {
   "cell_type": "code",
   "execution_count": 35,
   "metadata": {},
   "outputs": [],
   "source": [
    "writeAnalyses = Task(\n",
    "    description = \"\"\"Use the stock price trend and the stock news report to create an analyses and write the newsletter about the {ticket} company that is brief and highlights the most important points.\n",
    "    Focus on the stock price trend, news and fear/greed score. What are the near future considerations?\n",
    "    Include the previous analyses of stock trend and news summary\"\"\",\n",
    "    expected_output = \"\"\"An eloquent 3 paragraph newsletter formated as markdown in an easy readable manner. It should contain:\n",
    "    \n",
    "    -3 bullet executive summary\n",
    "    - Introduction - set the overall picture and spike up the interest\n",
    "    - main part provides the most of the analysis including the news summary and fear/greed scores\n",
    "    - summary - key facts and concrete future trend prediction - up, down or sideways.\n",
    "    \"\"\",\n",
    "    agent = stockAnalystWriter,\n",
    "    context = [getStockPrice, get_news]\n",
    ")"
   ]
  },
  {
   "cell_type": "code",
   "execution_count": 36,
   "metadata": {},
   "outputs": [
    {
     "name": "stderr",
     "output_type": "stream",
     "text": [
      "2024-09-14 13:53:47,269 - 4296 - __init__.py-__init__:538 - WARNING: Overriding of current TracerProvider is not allowed\n"
     ]
    }
   ],
   "source": [
    "crew = Crew(\n",
    "    agents = [stockPriceAnalyst, newsAnalyst],\n",
    "    manager_agent=stockAnalystWriter,\n",
    "    tasks = [getStockPrice, get_news, writeAnalyses],\n",
    "    verbose = 1,\n",
    "    process = Process.hierarchical,\n",
    "    #!full_output=True,\n",
    "    share_crew=False\n",
    "    #!,manager_llm=llm\n",
    ")"
   ]
  },
  {
   "cell_type": "code",
   "execution_count": null,
   "metadata": {},
   "outputs": [],
   "source": [
    "results = crew.kickoff(inputs={\"ticket\":'AAPL'})"
   ]
  },
  {
   "cell_type": "code",
   "execution_count": null,
   "metadata": {},
   "outputs": [],
   "source": [
    "list(results.keys())"
   ]
  },
  {
   "cell_type": "code",
   "execution_count": null,
   "metadata": {},
   "outputs": [],
   "source": [
    "results['final_ouput']"
   ]
  },
  {
   "cell_type": "code",
   "execution_count": null,
   "metadata": {},
   "outputs": [],
   "source": [
    "len(results['tasks_output'])"
   ]
  },
  {
   "cell_type": "code",
   "execution_count": null,
   "metadata": {},
   "outputs": [],
   "source": [
    "Markdown(results['final_output'])"
   ]
  },
  {
   "cell_type": "code",
   "execution_count": null,
   "metadata": {},
   "outputs": [],
   "source": [
    "with open('result.txt', 'a') as fp:\n",
    "    fp.write(result)"
   ]
  },
  {
   "cell_type": "code",
   "execution_count": null,
   "metadata": {},
   "outputs": [],
   "source": [
    "#Declarando variavel sobre a função\n",
    "response = yahoo_finance_tool.run('AAPL')\n",
    "print(response)"
   ]
  }
 ],
 "metadata": {
  "kernelspec": {
   "display_name": "Python 3",
   "language": "python",
   "name": "python3"
  },
  "language_info": {
   "codemirror_mode": {
    "name": "ipython",
    "version": 3
   },
   "file_extension": ".py",
   "mimetype": "text/x-python",
   "name": "python",
   "nbconvert_exporter": "python",
   "pygments_lexer": "ipython3",
   "version": "3.12.2"
  }
 },
 "nbformat": 4,
 "nbformat_minor": 2
}
