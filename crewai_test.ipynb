{
 "cells": [
  {
   "cell_type": "code",
   "execution_count": 1,
   "metadata": {},
   "outputs": [],
   "source": [
    "#!pip install yfinance\n",
    "#!pip install crewai\n",
    "#!pip install crewai[tools]\n",
    "#!pip install langchain\n",
    "#!pip install langchain-openai\n",
    "#!pip install duckduckgo-search\n",
    "#!pip install streamlit\n",
    "#!pip install --q langchain_google_genai"
   ]
  },
  {
   "cell_type": "code",
   "execution_count": 27,
   "metadata": {},
   "outputs": [],
   "source": [
    "import os\n",
    "from langchain_google_genai import ChatGoogleGenerativeAI # type: ignore\n",
    "from crewai import Agent, Task, Crew, Process\n",
    "from IPython.display import Markdown"
   ]
  },
  {
   "cell_type": "code",
   "execution_count": 17,
   "metadata": {},
   "outputs": [],
   "source": [
    "# Set gemini pro as llm\n",
    "llm = ChatGoogleGenerativeAI(model=\"gemini-pro\",\n",
    "                             verbose = True,\n",
    "                             temperature = 0.6,\n",
    "                             google_api_key=\"API_KEY\")"
   ]
  },
  {
   "cell_type": "code",
   "execution_count": null,
   "metadata": {},
   "outputs": [],
   "source": [
    "llm"
   ]
  },
  {
   "cell_type": "code",
   "execution_count": 19,
   "metadata": {},
   "outputs": [],
   "source": [
    "from langchain.tools import DuckDuckGoSearchRun\n",
    "search_tool = DuckDuckGoSearchRun()"
   ]
  },
  {
   "cell_type": "code",
   "execution_count": 20,
   "metadata": {},
   "outputs": [],
   "source": [
    "researcher = Agent(\n",
    "  role='Senior Research Analyst',\n",
    "  goal='Uncover cutting-edge developments in AI and data science',\n",
    "  backstory=\"\"\"You work at a leading tech think tank.\n",
    "  Your expertise lies in identifying emerging trends.\n",
    "  You have a knack for dissecting complex data and presenting\n",
    "  actionable insights.\"\"\",\n",
    "  verbose=True,\n",
    "  max_iter = 60,\n",
    "  allow_delegation=False,\n",
    "  llm = llm,  #using google gemini pro API\n",
    "  tools=[\n",
    "        search_tool\n",
    "      ]\n",
    ")"
   ]
  },
  {
   "cell_type": "code",
   "execution_count": 21,
   "metadata": {},
   "outputs": [],
   "source": [
    "writer = Agent(\n",
    "  role='Tech Content Strategist',\n",
    "  goal='Craft compelling content on tech advancements',\n",
    "  backstory=\"\"\"You are a renowned Content Strategist, known for\n",
    "  your insightful and engaging articles.\n",
    "  You transform complex concepts into compelling narratives.\"\"\",\n",
    "  verbose=True,\n",
    "  max_iter = 60,\n",
    "  allow_delegation=False,\n",
    "  llm = llm,  #using google gemini pro API\n",
    "  tools=[]\n",
    ")"
   ]
  },
  {
   "cell_type": "code",
   "execution_count": 22,
   "metadata": {},
   "outputs": [],
   "source": [
    "# Create tasks for your agents\n",
    "task1 = Task(\n",
    "  description=\"\"\"Conduct a comprehensive analysis of the latest advancements in AI in 2024.\n",
    "  Identify key trends, breakthrough technologies, and potential industry impacts.\"\"\",\n",
    "  expected_output=\"\"\"Your final answer MUST be a full analysis report\"\"\",\n",
    "  agent=researcher\n",
    ")"
   ]
  },
  {
   "cell_type": "code",
   "execution_count": 23,
   "metadata": {},
   "outputs": [],
   "source": [
    "task2 = Task(\n",
    "  description=\"\"\"Using the insights provided, develop an engaging blog\n",
    "  post that highlights the most significant AI advancements.\"\"\",\n",
    "  expected_output=\"\"\"\"Your post should be informative yet accessible, catering to a tech-savvy audience.\n",
    "  Make it sound cool, avoid complex words so it doesn't sound like AI.\n",
    "  Your final answer MUST be the full blog post of at least 4 paragraphs.\n",
    "  \"\"\",\n",
    "  agent=writer\n",
    ")"
   ]
  },
  {
   "cell_type": "code",
   "execution_count": null,
   "metadata": {},
   "outputs": [],
   "source": [
    "# Instantiate your crew with a sequential process\n",
    "crew = Crew(\n",
    "  agents=[researcher, writer],\n",
    "  tasks=[task1, task2],\n",
    "  full_output = True,\n",
    "  max_iter = 60,\n",
    "  verbose=1, # You can set it to 1 or 2 to different logging levels\n",
    ")"
   ]
  },
  {
   "cell_type": "code",
   "execution_count": null,
   "metadata": {},
   "outputs": [],
   "source": [
    "crew"
   ]
  },
  {
   "cell_type": "code",
   "execution_count": null,
   "metadata": {},
   "outputs": [],
   "source": [
    "result = crew.kickoff()"
   ]
  },
  {
   "cell_type": "code",
   "execution_count": null,
   "metadata": {},
   "outputs": [],
   "source": [
    "result.raw"
   ]
  },
  {
   "cell_type": "code",
   "execution_count": 36,
   "metadata": {},
   "outputs": [
    {
     "data": {
      "text/markdown": [
       "**2024 AI Advancements: A Glimpse into the Future**\n",
       "\n",
       "**Introduction**\n",
       "The year 2024 promises to be a pivotal moment in the evolution of Artificial Intelligence (AI). From the rise of generative AI to the emergence of multimodal AI and the potential of quantum computing, AI is poised to transform industries and shape our lives in unprecedented ways.\n",
       "\n",
       "**Generative AI: Unleashing Creativity and Innovation**\n",
       "Generative AI models like ChatGPT and DALL-E 2 are redefining the boundaries of content creation. These models can generate realistic text, images, and other content, empowering non-technical users to express their creativity and innovate in new ways. Generative AI has the potential to revolutionize industries such as entertainment, marketing, and education.\n",
       "\n",
       "**Multimodal AI: Bridging the Gap Between Data Types**\n",
       "Multimodal AI systems can process and generate data across multiple modalities, such as text, images, and audio. This enables a more comprehensive understanding of the world around us. Multimodal AI is expected to drive advancements in areas such as healthcare, where it can assist in disease diagnosis and personalized treatment plans.\n",
       "\n",
       "**Quantum Computing: The Next Frontier in AI**\n",
       "Quantum computing holds the potential to revolutionize AI by enabling the development of more powerful algorithms and solving complex problems that classical computers cannot. Quantum computing is expected to accelerate drug discovery, optimize financial models, and enhance materials science.\n",
       "\n",
       "**Industry Impacts: AI Transforming the World**\n",
       "AI is already having a profound impact on various industries, and its influence is only set to grow in the coming years. In healthcare, AI is aiding in disease diagnosis, drug discovery, and personalized treatment plans. In finance, AI-powered systems are enhancing risk assessment, fraud detection, and investment strategies. In manufacturing, AI is optimizing production processes, predictive maintenance, and supply chain management.\n",
       "\n",
       "**Conclusion**\n",
       "2024 is poised to be a year of transformative AI advancements. Generative AI, multimodal AI, and quantum computing are pushing the boundaries of what AI can do, opening up new possibilities for innovation and societal progress. As AI continues to evolve, it is crucial for organizations and individuals to embrace these technologies and harness their potential to shape a better future."
      ],
      "text/plain": [
       "<IPython.core.display.Markdown object>"
      ]
     },
     "execution_count": 36,
     "metadata": {},
     "output_type": "execute_result"
    }
   ],
   "source": [
    "Markdown(result.raw)"
   ]
  }
 ],
 "metadata": {
  "kernelspec": {
   "display_name": "Python 3",
   "language": "python",
   "name": "python3"
  },
  "language_info": {
   "codemirror_mode": {
    "name": "ipython",
    "version": 3
   },
   "file_extension": ".py",
   "mimetype": "text/x-python",
   "name": "python",
   "nbconvert_exporter": "python",
   "pygments_lexer": "ipython3",
   "version": "3.12.2"
  }
 },
 "nbformat": 4,
 "nbformat_minor": 2
}
